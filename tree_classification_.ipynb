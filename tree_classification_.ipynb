{
  "nbformat": 4,
  "nbformat_minor": 0,
  "metadata": {
    "colab": {
      "provenance": [],
      "include_colab_link": true
    },
    "kernelspec": {
      "name": "python3",
      "display_name": "Python 3"
    },
    "language_info": {
      "name": "python"
    }
  },
  "cells": [
    {
      "cell_type": "markdown",
      "metadata": {
        "id": "view-in-github",
        "colab_type": "text"
      },
      "source": [
        "<a href=\"https://colab.research.google.com/github/usjay/tree_classifier_model/blob/main/tree_classification_.ipynb\" target=\"_parent\"><img src=\"https://colab.research.google.com/assets/colab-badge.svg\" alt=\"Open In Colab\"/></a>"
      ]
    },
    {
      "cell_type": "code",
      "execution_count": 1,
      "metadata": {
        "id": "rnG3tsUr3tfZ"
      },
      "outputs": [],
      "source": [
        "import numpy as np\n",
        "import pandas as pd\n",
        "import tensorflow as tf\n",
        "from tensorflow.keras.models import Sequential\n",
        "from tensorflow.keras.layers import Dense\n",
        "from tensorflow.keras.callbacks import EarlyStopping\n",
        "from sklearn.model_selection import train_test_split\n",
        "from sklearn.preprocessing import StandardScaler, LabelEncoder\n",
        "import matplotlib.pyplot as plt\n",
        "from google.colab import files\n",
        "from tensorflow.keras.layers import Dropout, BatchNormalization"
      ]
    },
    {
      "cell_type": "code",
      "source": [
        "# Step 1: Upload the dataset\n",
        "uploaded = files.upload()\n"
      ],
      "metadata": {
        "colab": {
          "base_uri": "https://localhost:8080/",
          "height": 73
        },
        "id": "t4J6AT1234eT",
        "outputId": "6c112f10-271d-42f1-eb43-291fcf47cab8"
      },
      "execution_count": 2,
      "outputs": [
        {
          "output_type": "display_data",
          "data": {
            "text/plain": [
              "<IPython.core.display.HTML object>"
            ],
            "text/html": [
              "\n",
              "     <input type=\"file\" id=\"files-6147ade5-2b9e-4c39-aaea-695053a53ab2\" name=\"files[]\" multiple disabled\n",
              "        style=\"border:none\" />\n",
              "     <output id=\"result-6147ade5-2b9e-4c39-aaea-695053a53ab2\">\n",
              "      Upload widget is only available when the cell has been executed in the\n",
              "      current browser session. Please rerun this cell to enable.\n",
              "      </output>\n",
              "      <script>// Copyright 2017 Google LLC\n",
              "//\n",
              "// Licensed under the Apache License, Version 2.0 (the \"License\");\n",
              "// you may not use this file except in compliance with the License.\n",
              "// You may obtain a copy of the License at\n",
              "//\n",
              "//      http://www.apache.org/licenses/LICENSE-2.0\n",
              "//\n",
              "// Unless required by applicable law or agreed to in writing, software\n",
              "// distributed under the License is distributed on an \"AS IS\" BASIS,\n",
              "// WITHOUT WARRANTIES OR CONDITIONS OF ANY KIND, either express or implied.\n",
              "// See the License for the specific language governing permissions and\n",
              "// limitations under the License.\n",
              "\n",
              "/**\n",
              " * @fileoverview Helpers for google.colab Python module.\n",
              " */\n",
              "(function(scope) {\n",
              "function span(text, styleAttributes = {}) {\n",
              "  const element = document.createElement('span');\n",
              "  element.textContent = text;\n",
              "  for (const key of Object.keys(styleAttributes)) {\n",
              "    element.style[key] = styleAttributes[key];\n",
              "  }\n",
              "  return element;\n",
              "}\n",
              "\n",
              "// Max number of bytes which will be uploaded at a time.\n",
              "const MAX_PAYLOAD_SIZE = 100 * 1024;\n",
              "\n",
              "function _uploadFiles(inputId, outputId) {\n",
              "  const steps = uploadFilesStep(inputId, outputId);\n",
              "  const outputElement = document.getElementById(outputId);\n",
              "  // Cache steps on the outputElement to make it available for the next call\n",
              "  // to uploadFilesContinue from Python.\n",
              "  outputElement.steps = steps;\n",
              "\n",
              "  return _uploadFilesContinue(outputId);\n",
              "}\n",
              "\n",
              "// This is roughly an async generator (not supported in the browser yet),\n",
              "// where there are multiple asynchronous steps and the Python side is going\n",
              "// to poll for completion of each step.\n",
              "// This uses a Promise to block the python side on completion of each step,\n",
              "// then passes the result of the previous step as the input to the next step.\n",
              "function _uploadFilesContinue(outputId) {\n",
              "  const outputElement = document.getElementById(outputId);\n",
              "  const steps = outputElement.steps;\n",
              "\n",
              "  const next = steps.next(outputElement.lastPromiseValue);\n",
              "  return Promise.resolve(next.value.promise).then((value) => {\n",
              "    // Cache the last promise value to make it available to the next\n",
              "    // step of the generator.\n",
              "    outputElement.lastPromiseValue = value;\n",
              "    return next.value.response;\n",
              "  });\n",
              "}\n",
              "\n",
              "/**\n",
              " * Generator function which is called between each async step of the upload\n",
              " * process.\n",
              " * @param {string} inputId Element ID of the input file picker element.\n",
              " * @param {string} outputId Element ID of the output display.\n",
              " * @return {!Iterable<!Object>} Iterable of next steps.\n",
              " */\n",
              "function* uploadFilesStep(inputId, outputId) {\n",
              "  const inputElement = document.getElementById(inputId);\n",
              "  inputElement.disabled = false;\n",
              "\n",
              "  const outputElement = document.getElementById(outputId);\n",
              "  outputElement.innerHTML = '';\n",
              "\n",
              "  const pickedPromise = new Promise((resolve) => {\n",
              "    inputElement.addEventListener('change', (e) => {\n",
              "      resolve(e.target.files);\n",
              "    });\n",
              "  });\n",
              "\n",
              "  const cancel = document.createElement('button');\n",
              "  inputElement.parentElement.appendChild(cancel);\n",
              "  cancel.textContent = 'Cancel upload';\n",
              "  const cancelPromise = new Promise((resolve) => {\n",
              "    cancel.onclick = () => {\n",
              "      resolve(null);\n",
              "    };\n",
              "  });\n",
              "\n",
              "  // Wait for the user to pick the files.\n",
              "  const files = yield {\n",
              "    promise: Promise.race([pickedPromise, cancelPromise]),\n",
              "    response: {\n",
              "      action: 'starting',\n",
              "    }\n",
              "  };\n",
              "\n",
              "  cancel.remove();\n",
              "\n",
              "  // Disable the input element since further picks are not allowed.\n",
              "  inputElement.disabled = true;\n",
              "\n",
              "  if (!files) {\n",
              "    return {\n",
              "      response: {\n",
              "        action: 'complete',\n",
              "      }\n",
              "    };\n",
              "  }\n",
              "\n",
              "  for (const file of files) {\n",
              "    const li = document.createElement('li');\n",
              "    li.append(span(file.name, {fontWeight: 'bold'}));\n",
              "    li.append(span(\n",
              "        `(${file.type || 'n/a'}) - ${file.size} bytes, ` +\n",
              "        `last modified: ${\n",
              "            file.lastModifiedDate ? file.lastModifiedDate.toLocaleDateString() :\n",
              "                                    'n/a'} - `));\n",
              "    const percent = span('0% done');\n",
              "    li.appendChild(percent);\n",
              "\n",
              "    outputElement.appendChild(li);\n",
              "\n",
              "    const fileDataPromise = new Promise((resolve) => {\n",
              "      const reader = new FileReader();\n",
              "      reader.onload = (e) => {\n",
              "        resolve(e.target.result);\n",
              "      };\n",
              "      reader.readAsArrayBuffer(file);\n",
              "    });\n",
              "    // Wait for the data to be ready.\n",
              "    let fileData = yield {\n",
              "      promise: fileDataPromise,\n",
              "      response: {\n",
              "        action: 'continue',\n",
              "      }\n",
              "    };\n",
              "\n",
              "    // Use a chunked sending to avoid message size limits. See b/62115660.\n",
              "    let position = 0;\n",
              "    do {\n",
              "      const length = Math.min(fileData.byteLength - position, MAX_PAYLOAD_SIZE);\n",
              "      const chunk = new Uint8Array(fileData, position, length);\n",
              "      position += length;\n",
              "\n",
              "      const base64 = btoa(String.fromCharCode.apply(null, chunk));\n",
              "      yield {\n",
              "        response: {\n",
              "          action: 'append',\n",
              "          file: file.name,\n",
              "          data: base64,\n",
              "        },\n",
              "      };\n",
              "\n",
              "      let percentDone = fileData.byteLength === 0 ?\n",
              "          100 :\n",
              "          Math.round((position / fileData.byteLength) * 100);\n",
              "      percent.textContent = `${percentDone}% done`;\n",
              "\n",
              "    } while (position < fileData.byteLength);\n",
              "  }\n",
              "\n",
              "  // All done.\n",
              "  yield {\n",
              "    response: {\n",
              "      action: 'complete',\n",
              "    }\n",
              "  };\n",
              "}\n",
              "\n",
              "scope.google = scope.google || {};\n",
              "scope.google.colab = scope.google.colab || {};\n",
              "scope.google.colab._files = {\n",
              "  _uploadFiles,\n",
              "  _uploadFilesContinue,\n",
              "};\n",
              "})(self);\n",
              "</script> "
            ]
          },
          "metadata": {}
        },
        {
          "output_type": "stream",
          "name": "stdout",
          "text": [
            "Saving dataset.csv to dataset.csv\n"
          ]
        }
      ]
    },
    {
      "cell_type": "code",
      "source": [
        "# Step 2: Load the dataset\n",
        "data = pd.read_csv(\"dataset.csv\")\n",
        "\n",
        "# Print the column names\n",
        "print(data.columns)\n"
      ],
      "metadata": {
        "colab": {
          "base_uri": "https://localhost:8080/"
        },
        "id": "-7fvkni537YD",
        "outputId": "5027eadf-b5a7-40b1-d95d-79d2a54e5f86"
      },
      "execution_count": 3,
      "outputs": [
        {
          "output_type": "stream",
          "name": "stdout",
          "text": [
            "Index(['Ratio', 'Angle1 ', 'Angle 2', 'Name'], dtype='object')\n"
          ]
        }
      ]
    },
    {
      "cell_type": "code",
      "source": [
        "# Step 3: Preprocess data\n",
        "# Update these column names based on the actual column names in your dataset\n",
        "X = data[['Ratio', 'Angle1 ', 'Angle 2']]  # Selecting feature columns with correct names\n",
        "y = data['Name']  # Selecting the label column"
      ],
      "metadata": {
        "id": "Q34xQVz-4GCj"
      },
      "execution_count": 4,
      "outputs": []
    },
    {
      "cell_type": "code",
      "source": [
        "# Step 4: Encode categorical target labels\n",
        "label_encoder = LabelEncoder()\n",
        "y = label_encoder.fit_transform(y)"
      ],
      "metadata": {
        "id": "8wD3Zg_a4Ive"
      },
      "execution_count": 5,
      "outputs": []
    },
    {
      "cell_type": "code",
      "source": [
        "# Step 5:Split the data into training and testing sets\n",
        "X_train, X_test, y_train, y_test = train_test_split(X, y, test_size=0.2, random_state=42)\n"
      ],
      "metadata": {
        "id": "rZTy8-9h4K09"
      },
      "execution_count": 6,
      "outputs": []
    },
    {
      "cell_type": "code",
      "source": [
        "# Step 6:Standardize the feature data\n",
        "scaler = StandardScaler()\n",
        "X_train = scaler.fit_transform(X_train)\n",
        "X_test = scaler.transform(X_test)"
      ],
      "metadata": {
        "id": "_HcaDCPI4NEi"
      },
      "execution_count": 7,
      "outputs": []
    },
    {
      "cell_type": "code",
      "source": [
        "# Step 7:Model architecture\n",
        "model = Sequential()\n",
        "model.add(Dense(24, activation='relu', input_shape=(X_train.shape[1],)))\n",
        "model.add(BatchNormalization())\n",
        "model.add(Dropout(0.2))\n",
        "model.add(Dense(24, activation='relu'))\n",
        "model.add(BatchNormalization())\n",
        "model.add(Dropout(0.2))\n",
        "model.add(Dense(3, activation='softmax'))"
      ],
      "metadata": {
        "id": "m_YRxlZX4RS3"
      },
      "execution_count": 22,
      "outputs": []
    },
    {
      "cell_type": "code",
      "source": [
        "# Step 8: Compile model\n",
        "model.compile(optimizer='adam',\n",
        "              loss='sparse_categorical_crossentropy',\n",
        "              metrics=['accuracy'])"
      ],
      "metadata": {
        "id": "U0cFZrp84TVh"
      },
      "execution_count": 9,
      "outputs": []
    },
    {
      "cell_type": "code",
      "source": [
        "# Step 9: Train model with early stopping\n",
        "history = model.fit(X_train, y_train,\n",
        "                    epochs=100,  # Start with a higher number of epochs\n",
        "                    batch_size=64,\n",
        "                    validation_split=0.2,\n",
        "\n",
        "                   )"
      ],
      "metadata": {
        "colab": {
          "base_uri": "https://localhost:8080/"
        },
        "id": "IVvoTlEs4YDS",
        "outputId": "2441ebbb-5fcd-452e-cd94-b636e3545c32"
      },
      "execution_count": 10,
      "outputs": [
        {
          "output_type": "stream",
          "name": "stdout",
          "text": [
            "Epoch 1/100\n",
            "5/5 [==============================] - 3s 72ms/step - loss: 1.4463 - accuracy: 0.3924 - val_loss: 1.0176 - val_accuracy: 0.5694\n",
            "Epoch 2/100\n",
            "5/5 [==============================] - 0s 14ms/step - loss: 1.1601 - accuracy: 0.4583 - val_loss: 0.9843 - val_accuracy: 0.6250\n",
            "Epoch 3/100\n",
            "5/5 [==============================] - 0s 10ms/step - loss: 1.0441 - accuracy: 0.4931 - val_loss: 0.9515 - val_accuracy: 0.6944\n",
            "Epoch 4/100\n",
            "5/5 [==============================] - 0s 14ms/step - loss: 0.8446 - accuracy: 0.6215 - val_loss: 0.9176 - val_accuracy: 0.7361\n",
            "Epoch 5/100\n",
            "5/5 [==============================] - 0s 10ms/step - loss: 0.7074 - accuracy: 0.6701 - val_loss: 0.8843 - val_accuracy: 0.7917\n",
            "Epoch 6/100\n",
            "5/5 [==============================] - 0s 17ms/step - loss: 0.6054 - accuracy: 0.7361 - val_loss: 0.8516 - val_accuracy: 0.8472\n",
            "Epoch 7/100\n",
            "5/5 [==============================] - 0s 14ms/step - loss: 0.4821 - accuracy: 0.8021 - val_loss: 0.8214 - val_accuracy: 0.8611\n",
            "Epoch 8/100\n",
            "5/5 [==============================] - 0s 10ms/step - loss: 0.4800 - accuracy: 0.7778 - val_loss: 0.7928 - val_accuracy: 0.8889\n",
            "Epoch 9/100\n",
            "5/5 [==============================] - 0s 10ms/step - loss: 0.3737 - accuracy: 0.8507 - val_loss: 0.7643 - val_accuracy: 0.9028\n",
            "Epoch 10/100\n",
            "5/5 [==============================] - 0s 10ms/step - loss: 0.3585 - accuracy: 0.8819 - val_loss: 0.7374 - val_accuracy: 0.9028\n",
            "Epoch 11/100\n",
            "5/5 [==============================] - 0s 14ms/step - loss: 0.3800 - accuracy: 0.8854 - val_loss: 0.7114 - val_accuracy: 0.9028\n",
            "Epoch 12/100\n",
            "5/5 [==============================] - 0s 10ms/step - loss: 0.3784 - accuracy: 0.8681 - val_loss: 0.6867 - val_accuracy: 0.9167\n",
            "Epoch 13/100\n",
            "5/5 [==============================] - 0s 14ms/step - loss: 0.3421 - accuracy: 0.8576 - val_loss: 0.6633 - val_accuracy: 0.9306\n",
            "Epoch 14/100\n",
            "5/5 [==============================] - 0s 10ms/step - loss: 0.3218 - accuracy: 0.8681 - val_loss: 0.6398 - val_accuracy: 0.9306\n",
            "Epoch 15/100\n",
            "5/5 [==============================] - 0s 11ms/step - loss: 0.3118 - accuracy: 0.8958 - val_loss: 0.6157 - val_accuracy: 0.9306\n",
            "Epoch 16/100\n",
            "5/5 [==============================] - 0s 10ms/step - loss: 0.3523 - accuracy: 0.8681 - val_loss: 0.5926 - val_accuracy: 0.9306\n",
            "Epoch 17/100\n",
            "5/5 [==============================] - 0s 11ms/step - loss: 0.2943 - accuracy: 0.8889 - val_loss: 0.5708 - val_accuracy: 0.9306\n",
            "Epoch 18/100\n",
            "5/5 [==============================] - 0s 14ms/step - loss: 0.2752 - accuracy: 0.8958 - val_loss: 0.5498 - val_accuracy: 0.9444\n",
            "Epoch 19/100\n",
            "5/5 [==============================] - 0s 14ms/step - loss: 0.2948 - accuracy: 0.9028 - val_loss: 0.5300 - val_accuracy: 0.9444\n",
            "Epoch 20/100\n",
            "5/5 [==============================] - 0s 15ms/step - loss: 0.3063 - accuracy: 0.8854 - val_loss: 0.5123 - val_accuracy: 0.9583\n",
            "Epoch 21/100\n",
            "5/5 [==============================] - 0s 10ms/step - loss: 0.2890 - accuracy: 0.8819 - val_loss: 0.4957 - val_accuracy: 0.9583\n",
            "Epoch 22/100\n",
            "5/5 [==============================] - 0s 15ms/step - loss: 0.2534 - accuracy: 0.9236 - val_loss: 0.4792 - val_accuracy: 0.9583\n",
            "Epoch 23/100\n",
            "5/5 [==============================] - 0s 19ms/step - loss: 0.2850 - accuracy: 0.8889 - val_loss: 0.4630 - val_accuracy: 0.9583\n",
            "Epoch 24/100\n",
            "5/5 [==============================] - 0s 10ms/step - loss: 0.2681 - accuracy: 0.9097 - val_loss: 0.4465 - val_accuracy: 0.9583\n",
            "Epoch 25/100\n",
            "5/5 [==============================] - 0s 10ms/step - loss: 0.2467 - accuracy: 0.9097 - val_loss: 0.4308 - val_accuracy: 0.9583\n",
            "Epoch 26/100\n",
            "5/5 [==============================] - 0s 10ms/step - loss: 0.1963 - accuracy: 0.9271 - val_loss: 0.4163 - val_accuracy: 0.9583\n",
            "Epoch 27/100\n",
            "5/5 [==============================] - 0s 10ms/step - loss: 0.2398 - accuracy: 0.9236 - val_loss: 0.4013 - val_accuracy: 0.9583\n",
            "Epoch 28/100\n",
            "5/5 [==============================] - 0s 14ms/step - loss: 0.2639 - accuracy: 0.8993 - val_loss: 0.3868 - val_accuracy: 0.9583\n",
            "Epoch 29/100\n",
            "5/5 [==============================] - 0s 10ms/step - loss: 0.2445 - accuracy: 0.9097 - val_loss: 0.3731 - val_accuracy: 0.9583\n",
            "Epoch 30/100\n",
            "5/5 [==============================] - 0s 14ms/step - loss: 0.2774 - accuracy: 0.8958 - val_loss: 0.3608 - val_accuracy: 0.9583\n",
            "Epoch 31/100\n",
            "5/5 [==============================] - 0s 14ms/step - loss: 0.2314 - accuracy: 0.9167 - val_loss: 0.3509 - val_accuracy: 0.9583\n",
            "Epoch 32/100\n",
            "5/5 [==============================] - 0s 14ms/step - loss: 0.2212 - accuracy: 0.9236 - val_loss: 0.3411 - val_accuracy: 0.9583\n",
            "Epoch 33/100\n",
            "5/5 [==============================] - 0s 10ms/step - loss: 0.2277 - accuracy: 0.9167 - val_loss: 0.3323 - val_accuracy: 0.9583\n",
            "Epoch 34/100\n",
            "5/5 [==============================] - 0s 10ms/step - loss: 0.2538 - accuracy: 0.8958 - val_loss: 0.3242 - val_accuracy: 0.9583\n",
            "Epoch 35/100\n",
            "5/5 [==============================] - 0s 14ms/step - loss: 0.2102 - accuracy: 0.9132 - val_loss: 0.3155 - val_accuracy: 0.9583\n",
            "Epoch 36/100\n",
            "5/5 [==============================] - 0s 10ms/step - loss: 0.2207 - accuracy: 0.9132 - val_loss: 0.3072 - val_accuracy: 0.9583\n",
            "Epoch 37/100\n",
            "5/5 [==============================] - 0s 12ms/step - loss: 0.2340 - accuracy: 0.8958 - val_loss: 0.2988 - val_accuracy: 0.9583\n",
            "Epoch 38/100\n",
            "5/5 [==============================] - 0s 14ms/step - loss: 0.2212 - accuracy: 0.9167 - val_loss: 0.2918 - val_accuracy: 0.9583\n",
            "Epoch 39/100\n",
            "5/5 [==============================] - 0s 15ms/step - loss: 0.2055 - accuracy: 0.9201 - val_loss: 0.2850 - val_accuracy: 0.9583\n",
            "Epoch 40/100\n",
            "5/5 [==============================] - 0s 17ms/step - loss: 0.2163 - accuracy: 0.9097 - val_loss: 0.2783 - val_accuracy: 0.9583\n",
            "Epoch 41/100\n",
            "5/5 [==============================] - 0s 10ms/step - loss: 0.2339 - accuracy: 0.9132 - val_loss: 0.2722 - val_accuracy: 0.9583\n",
            "Epoch 42/100\n",
            "5/5 [==============================] - 0s 14ms/step - loss: 0.2043 - accuracy: 0.9271 - val_loss: 0.2658 - val_accuracy: 0.9583\n",
            "Epoch 43/100\n",
            "5/5 [==============================] - 0s 10ms/step - loss: 0.2141 - accuracy: 0.9201 - val_loss: 0.2603 - val_accuracy: 0.9583\n",
            "Epoch 44/100\n",
            "5/5 [==============================] - 0s 10ms/step - loss: 0.2329 - accuracy: 0.9062 - val_loss: 0.2548 - val_accuracy: 0.9583\n",
            "Epoch 45/100\n",
            "5/5 [==============================] - 0s 11ms/step - loss: 0.2170 - accuracy: 0.9028 - val_loss: 0.2504 - val_accuracy: 0.9583\n",
            "Epoch 46/100\n",
            "5/5 [==============================] - 0s 15ms/step - loss: 0.2366 - accuracy: 0.9097 - val_loss: 0.2464 - val_accuracy: 0.9444\n",
            "Epoch 47/100\n",
            "5/5 [==============================] - 0s 10ms/step - loss: 0.2014 - accuracy: 0.9167 - val_loss: 0.2423 - val_accuracy: 0.9444\n",
            "Epoch 48/100\n",
            "5/5 [==============================] - 0s 10ms/step - loss: 0.2604 - accuracy: 0.9236 - val_loss: 0.2390 - val_accuracy: 0.9444\n",
            "Epoch 49/100\n",
            "5/5 [==============================] - 0s 10ms/step - loss: 0.2337 - accuracy: 0.9028 - val_loss: 0.2357 - val_accuracy: 0.9444\n",
            "Epoch 50/100\n",
            "5/5 [==============================] - 0s 14ms/step - loss: 0.1946 - accuracy: 0.9410 - val_loss: 0.2325 - val_accuracy: 0.9444\n",
            "Epoch 51/100\n",
            "5/5 [==============================] - 0s 14ms/step - loss: 0.2212 - accuracy: 0.9132 - val_loss: 0.2287 - val_accuracy: 0.9444\n",
            "Epoch 52/100\n",
            "5/5 [==============================] - 0s 12ms/step - loss: 0.1977 - accuracy: 0.9236 - val_loss: 0.2252 - val_accuracy: 0.9444\n",
            "Epoch 53/100\n",
            "5/5 [==============================] - 0s 16ms/step - loss: 0.2230 - accuracy: 0.9062 - val_loss: 0.2218 - val_accuracy: 0.9444\n",
            "Epoch 54/100\n",
            "5/5 [==============================] - 0s 14ms/step - loss: 0.2137 - accuracy: 0.9167 - val_loss: 0.2181 - val_accuracy: 0.9444\n",
            "Epoch 55/100\n",
            "5/5 [==============================] - 0s 10ms/step - loss: 0.2309 - accuracy: 0.9028 - val_loss: 0.2150 - val_accuracy: 0.9444\n",
            "Epoch 56/100\n",
            "5/5 [==============================] - 0s 12ms/step - loss: 0.2157 - accuracy: 0.9167 - val_loss: 0.2124 - val_accuracy: 0.9583\n",
            "Epoch 57/100\n",
            "5/5 [==============================] - 0s 12ms/step - loss: 0.1936 - accuracy: 0.9236 - val_loss: 0.2100 - val_accuracy: 0.9583\n",
            "Epoch 58/100\n",
            "5/5 [==============================] - 0s 10ms/step - loss: 0.2168 - accuracy: 0.9167 - val_loss: 0.2080 - val_accuracy: 0.9583\n",
            "Epoch 59/100\n",
            "5/5 [==============================] - 0s 14ms/step - loss: 0.2116 - accuracy: 0.9097 - val_loss: 0.2065 - val_accuracy: 0.9444\n",
            "Epoch 60/100\n",
            "5/5 [==============================] - 0s 15ms/step - loss: 0.2232 - accuracy: 0.9271 - val_loss: 0.2044 - val_accuracy: 0.9444\n",
            "Epoch 61/100\n",
            "5/5 [==============================] - 0s 14ms/step - loss: 0.1964 - accuracy: 0.9236 - val_loss: 0.2019 - val_accuracy: 0.9583\n",
            "Epoch 62/100\n",
            "5/5 [==============================] - 0s 14ms/step - loss: 0.2006 - accuracy: 0.9167 - val_loss: 0.2005 - val_accuracy: 0.9583\n",
            "Epoch 63/100\n",
            "5/5 [==============================] - 0s 10ms/step - loss: 0.2066 - accuracy: 0.9201 - val_loss: 0.1989 - val_accuracy: 0.9583\n",
            "Epoch 64/100\n",
            "5/5 [==============================] - 0s 15ms/step - loss: 0.1687 - accuracy: 0.9306 - val_loss: 0.1972 - val_accuracy: 0.9583\n",
            "Epoch 65/100\n",
            "5/5 [==============================] - 0s 11ms/step - loss: 0.2042 - accuracy: 0.9236 - val_loss: 0.1957 - val_accuracy: 0.9583\n",
            "Epoch 66/100\n",
            "5/5 [==============================] - 0s 14ms/step - loss: 0.2190 - accuracy: 0.9167 - val_loss: 0.1938 - val_accuracy: 0.9583\n",
            "Epoch 67/100\n",
            "5/5 [==============================] - 0s 14ms/step - loss: 0.1957 - accuracy: 0.9340 - val_loss: 0.1912 - val_accuracy: 0.9583\n",
            "Epoch 68/100\n",
            "5/5 [==============================] - 0s 15ms/step - loss: 0.1982 - accuracy: 0.9132 - val_loss: 0.1897 - val_accuracy: 0.9583\n",
            "Epoch 69/100\n",
            "5/5 [==============================] - 0s 14ms/step - loss: 0.2006 - accuracy: 0.9340 - val_loss: 0.1883 - val_accuracy: 0.9583\n",
            "Epoch 70/100\n",
            "5/5 [==============================] - 0s 10ms/step - loss: 0.2110 - accuracy: 0.9236 - val_loss: 0.1870 - val_accuracy: 0.9583\n",
            "Epoch 71/100\n",
            "5/5 [==============================] - 0s 10ms/step - loss: 0.2096 - accuracy: 0.9306 - val_loss: 0.1873 - val_accuracy: 0.9583\n",
            "Epoch 72/100\n",
            "5/5 [==============================] - 0s 14ms/step - loss: 0.1979 - accuracy: 0.9340 - val_loss: 0.1864 - val_accuracy: 0.9583\n",
            "Epoch 73/100\n",
            "5/5 [==============================] - 0s 17ms/step - loss: 0.1668 - accuracy: 0.9618 - val_loss: 0.1854 - val_accuracy: 0.9583\n",
            "Epoch 74/100\n",
            "5/5 [==============================] - 0s 14ms/step - loss: 0.1957 - accuracy: 0.9236 - val_loss: 0.1846 - val_accuracy: 0.9583\n",
            "Epoch 75/100\n",
            "5/5 [==============================] - 0s 14ms/step - loss: 0.1853 - accuracy: 0.9375 - val_loss: 0.1837 - val_accuracy: 0.9583\n",
            "Epoch 76/100\n",
            "5/5 [==============================] - 0s 11ms/step - loss: 0.1809 - accuracy: 0.9201 - val_loss: 0.1831 - val_accuracy: 0.9583\n",
            "Epoch 77/100\n",
            "5/5 [==============================] - 0s 10ms/step - loss: 0.1861 - accuracy: 0.9306 - val_loss: 0.1823 - val_accuracy: 0.9583\n",
            "Epoch 78/100\n",
            "5/5 [==============================] - 0s 10ms/step - loss: 0.2012 - accuracy: 0.9097 - val_loss: 0.1820 - val_accuracy: 0.9583\n",
            "Epoch 79/100\n",
            "5/5 [==============================] - 0s 16ms/step - loss: 0.1968 - accuracy: 0.9271 - val_loss: 0.1807 - val_accuracy: 0.9583\n",
            "Epoch 80/100\n",
            "5/5 [==============================] - 0s 14ms/step - loss: 0.2247 - accuracy: 0.9132 - val_loss: 0.1800 - val_accuracy: 0.9583\n",
            "Epoch 81/100\n",
            "5/5 [==============================] - 0s 11ms/step - loss: 0.1868 - accuracy: 0.9236 - val_loss: 0.1791 - val_accuracy: 0.9583\n",
            "Epoch 82/100\n",
            "5/5 [==============================] - 0s 10ms/step - loss: 0.1974 - accuracy: 0.9132 - val_loss: 0.1792 - val_accuracy: 0.9583\n",
            "Epoch 83/100\n",
            "5/5 [==============================] - 0s 10ms/step - loss: 0.1807 - accuracy: 0.9340 - val_loss: 0.1790 - val_accuracy: 0.9444\n",
            "Epoch 84/100\n",
            "5/5 [==============================] - 0s 10ms/step - loss: 0.1932 - accuracy: 0.9097 - val_loss: 0.1796 - val_accuracy: 0.9444\n",
            "Epoch 85/100\n",
            "5/5 [==============================] - 0s 10ms/step - loss: 0.2058 - accuracy: 0.9201 - val_loss: 0.1796 - val_accuracy: 0.9444\n",
            "Epoch 86/100\n",
            "5/5 [==============================] - 0s 12ms/step - loss: 0.1934 - accuracy: 0.9375 - val_loss: 0.1798 - val_accuracy: 0.9444\n",
            "Epoch 87/100\n",
            "5/5 [==============================] - 0s 15ms/step - loss: 0.1877 - accuracy: 0.9236 - val_loss: 0.1795 - val_accuracy: 0.9444\n",
            "Epoch 88/100\n",
            "5/5 [==============================] - 0s 14ms/step - loss: 0.2112 - accuracy: 0.9132 - val_loss: 0.1803 - val_accuracy: 0.9444\n",
            "Epoch 89/100\n",
            "5/5 [==============================] - 0s 11ms/step - loss: 0.2291 - accuracy: 0.9167 - val_loss: 0.1800 - val_accuracy: 0.9444\n",
            "Epoch 90/100\n",
            "5/5 [==============================] - 0s 13ms/step - loss: 0.1820 - accuracy: 0.9167 - val_loss: 0.1785 - val_accuracy: 0.9444\n",
            "Epoch 91/100\n",
            "5/5 [==============================] - 0s 10ms/step - loss: 0.1977 - accuracy: 0.9236 - val_loss: 0.1778 - val_accuracy: 0.9444\n",
            "Epoch 92/100\n",
            "5/5 [==============================] - 0s 10ms/step - loss: 0.1906 - accuracy: 0.9236 - val_loss: 0.1777 - val_accuracy: 0.9444\n",
            "Epoch 93/100\n",
            "5/5 [==============================] - 0s 10ms/step - loss: 0.2021 - accuracy: 0.9097 - val_loss: 0.1771 - val_accuracy: 0.9583\n",
            "Epoch 94/100\n",
            "5/5 [==============================] - 0s 16ms/step - loss: 0.1942 - accuracy: 0.9236 - val_loss: 0.1761 - val_accuracy: 0.9583\n",
            "Epoch 95/100\n",
            "5/5 [==============================] - 0s 11ms/step - loss: 0.1809 - accuracy: 0.9410 - val_loss: 0.1743 - val_accuracy: 0.9583\n",
            "Epoch 96/100\n",
            "5/5 [==============================] - 0s 15ms/step - loss: 0.1935 - accuracy: 0.9340 - val_loss: 0.1733 - val_accuracy: 0.9583\n",
            "Epoch 97/100\n",
            "5/5 [==============================] - 0s 11ms/step - loss: 0.1771 - accuracy: 0.9236 - val_loss: 0.1707 - val_accuracy: 0.9583\n",
            "Epoch 98/100\n",
            "5/5 [==============================] - 0s 11ms/step - loss: 0.1811 - accuracy: 0.9236 - val_loss: 0.1694 - val_accuracy: 0.9583\n",
            "Epoch 99/100\n",
            "5/5 [==============================] - 0s 14ms/step - loss: 0.1737 - accuracy: 0.9340 - val_loss: 0.1697 - val_accuracy: 0.9583\n",
            "Epoch 100/100\n",
            "5/5 [==============================] - 0s 15ms/step - loss: 0.1854 - accuracy: 0.9167 - val_loss: 0.1708 - val_accuracy: 0.9583\n"
          ]
        }
      ]
    },
    {
      "cell_type": "code",
      "source": [
        "# Step 10: Evaluate model\n",
        "loss, accuracy = model.evaluate(X_test, y_test)\n",
        "print(f'Test Accuracy: {accuracy:.4f}')"
      ],
      "metadata": {
        "colab": {
          "base_uri": "https://localhost:8080/"
        },
        "id": "WkRLPn-J5uV0",
        "outputId": "d314bdf3-7835-4e2f-ce22-d51a02afac0f"
      },
      "execution_count": 11,
      "outputs": [
        {
          "output_type": "stream",
          "name": "stdout",
          "text": [
            "3/3 [==============================] - 0s 4ms/step - loss: 0.1114 - accuracy: 0.9667\n",
            "Test Accuracy: 0.9667\n"
          ]
        }
      ]
    },
    {
      "cell_type": "code",
      "source": [
        "# Step 11: Plot accuracy\n",
        "plt.plot(history.history['accuracy'], label='Train Accuracy')\n",
        "plt.plot(history.history['val_accuracy'], label='Validation Accuracy')\n",
        "plt.xlabel('Epochs')\n",
        "plt.ylabel('Accuracy')\n",
        "plt.legend()\n",
        "plt.title('Training and Validation Accuracy')\n",
        "plt.show()"
      ],
      "metadata": {
        "colab": {
          "base_uri": "https://localhost:8080/",
          "height": 472
        },
        "id": "WkMiTF5p561Y",
        "outputId": "0ac717d5-d599-4803-9616-ca9d264c2929"
      },
      "execution_count": 12,
      "outputs": [
        {
          "output_type": "display_data",
          "data": {
            "text/plain": [
              "<Figure size 640x480 with 1 Axes>"
            ],
            "image/png": "[encoded data removed]"
          },
          "metadata": {}
        }
      ]
    },
    {
      "cell_type": "code",
      "source": [
        "# Step 12: Define EarlyStopping callback\n",
        "early_stopping = EarlyStopping(monitor='val_loss', patience=5, restore_best_weights=True)"
      ],
      "metadata": {
        "id": "QvtLR8kL6KP-"
      },
      "execution_count": 13,
      "outputs": []
    },
    {
      "cell_type": "code",
      "source": [
        "# Step 13: Train model with early stopping\n",
        "history = model.fit(X_train, y_train,\n",
        "                    epochs=100,  # Start with a higher number of epochs\n",
        "                    batch_size=64,\n",
        "                    validation_split=0.2,\n",
        "                    callbacks=[early_stopping]\n",
        "                   )"
      ],
      "metadata": {
        "colab": {
          "base_uri": "https://localhost:8080/"
        },
        "id": "dK9G2HXVS2PR",
        "outputId": "e49ddb50-7a69-4368-97f4-700e07efa5e7"
      },
      "execution_count": 14,
      "outputs": [
        {
          "output_type": "stream",
          "name": "stdout",
          "text": [
            "Epoch 1/100\n",
            "5/5 [==============================] - 0s 28ms/step - loss: 0.1867 - accuracy: 0.9375 - val_loss: 0.1730 - val_accuracy: 0.9444\n",
            "Epoch 2/100\n",
            "5/5 [==============================] - 0s 12ms/step - loss: 0.1804 - accuracy: 0.9132 - val_loss: 0.1744 - val_accuracy: 0.9444\n",
            "Epoch 3/100\n",
            "5/5 [==============================] - 0s 16ms/step - loss: 0.1989 - accuracy: 0.9306 - val_loss: 0.1748 - val_accuracy: 0.9444\n",
            "Epoch 4/100\n",
            "5/5 [==============================] - 0s 15ms/step - loss: 0.1781 - accuracy: 0.9132 - val_loss: 0.1724 - val_accuracy: 0.9444\n",
            "Epoch 5/100\n",
            "5/5 [==============================] - 0s 15ms/step - loss: 0.1832 - accuracy: 0.9306 - val_loss: 0.1707 - val_accuracy: 0.9444\n",
            "Epoch 6/100\n",
            "5/5 [==============================] - 0s 15ms/step - loss: 0.1722 - accuracy: 0.9410 - val_loss: 0.1705 - val_accuracy: 0.9444\n",
            "Epoch 7/100\n",
            "5/5 [==============================] - 0s 10ms/step - loss: 0.1961 - accuracy: 0.9236 - val_loss: 0.1714 - val_accuracy: 0.9444\n",
            "Epoch 8/100\n",
            "5/5 [==============================] - 0s 10ms/step - loss: 0.1705 - accuracy: 0.9201 - val_loss: 0.1709 - val_accuracy: 0.9444\n",
            "Epoch 9/100\n",
            "5/5 [==============================] - 0s 10ms/step - loss: 0.1553 - accuracy: 0.9340 - val_loss: 0.1717 - val_accuracy: 0.9444\n",
            "Epoch 10/100\n",
            "5/5 [==============================] - 0s 10ms/step - loss: 0.2094 - accuracy: 0.9028 - val_loss: 0.1715 - val_accuracy: 0.9444\n",
            "Epoch 11/100\n",
            "5/5 [==============================] - 0s 16ms/step - loss: 0.1769 - accuracy: 0.9236 - val_loss: 0.1716 - val_accuracy: 0.9444\n"
          ]
        }
      ]
    },
    {
      "cell_type": "code",
      "source": [
        "# step 14: Print the number of epochs used\n",
        "print(f'Training stopped after {len(history.epoch)} epochs')"
      ],
      "metadata": {
        "colab": {
          "base_uri": "https://localhost:8080/"
        },
        "id": "hw4edNwLQQ45",
        "outputId": "28233e9c-fb58-468e-f8cd-00b1b29439ea"
      },
      "execution_count": 15,
      "outputs": [
        {
          "output_type": "stream",
          "name": "stdout",
          "text": [
            "Training stopped after 11 epochs\n"
          ]
        }
      ]
    },
    {
      "cell_type": "code",
      "source": [
        "# Step 15: Re Train model with early stopping\n",
        "history = model.fit(X_train, y_train,\n",
        "                    epochs=11,  # Start with a early stoping number of epochs\n",
        "                    batch_size=64,\n",
        "                    validation_split=0.2,\n",
        "                    callbacks=[early_stopping]\n",
        "                   )"
      ],
      "metadata": {
        "id": "ogG_2vLHZSOX",
        "outputId": "dd0a56eb-89e4-4baa-da5d-454406058876",
        "colab": {
          "base_uri": "https://localhost:8080/"
        }
      },
      "execution_count": 20,
      "outputs": [
        {
          "output_type": "stream",
          "name": "stdout",
          "text": [
            "Epoch 1/11\n",
            "5/5 [==============================] - 0s 45ms/step - loss: 0.2298 - accuracy: 0.9097 - val_loss: 0.1708 - val_accuracy: 0.9444\n",
            "Epoch 2/11\n",
            "5/5 [==============================] - 0s 23ms/step - loss: 0.1662 - accuracy: 0.9306 - val_loss: 0.1706 - val_accuracy: 0.9444\n",
            "Epoch 3/11\n",
            "5/5 [==============================] - 0s 45ms/step - loss: 0.1783 - accuracy: 0.9375 - val_loss: 0.1713 - val_accuracy: 0.9444\n",
            "Epoch 4/11\n",
            "5/5 [==============================] - 0s 35ms/step - loss: 0.1745 - accuracy: 0.9271 - val_loss: 0.1701 - val_accuracy: 0.9444\n",
            "Epoch 5/11\n",
            "5/5 [==============================] - 0s 33ms/step - loss: 0.1890 - accuracy: 0.9132 - val_loss: 0.1688 - val_accuracy: 0.9444\n",
            "Epoch 6/11\n",
            "5/5 [==============================] - 0s 23ms/step - loss: 0.1858 - accuracy: 0.9236 - val_loss: 0.1690 - val_accuracy: 0.9444\n",
            "Epoch 7/11\n",
            "5/5 [==============================] - 0s 34ms/step - loss: 0.1978 - accuracy: 0.9306 - val_loss: 0.1698 - val_accuracy: 0.9444\n",
            "Epoch 8/11\n",
            "5/5 [==============================] - 0s 23ms/step - loss: 0.2265 - accuracy: 0.9062 - val_loss: 0.1694 - val_accuracy: 0.9444\n",
            "Epoch 9/11\n",
            "5/5 [==============================] - 0s 41ms/step - loss: 0.1939 - accuracy: 0.9340 - val_loss: 0.1675 - val_accuracy: 0.9444\n",
            "Epoch 10/11\n",
            "5/5 [==============================] - 0s 44ms/step - loss: 0.2487 - accuracy: 0.8924 - val_loss: 0.1657 - val_accuracy: 0.9583\n",
            "Epoch 11/11\n",
            "5/5 [==============================] - 0s 32ms/step - loss: 0.1825 - accuracy: 0.9236 - val_loss: 0.1648 - val_accuracy: 0.9583\n"
          ]
        }
      ]
    },
    {
      "cell_type": "code",
      "source": [
        "# Step 16: Evaluate Re traine model\n",
        "loss, accuracy = model.evaluate(X_test, y_test)\n",
        "print(f'Test Accuracy: {accuracy:.4f}')"
      ],
      "metadata": {
        "colab": {
          "base_uri": "https://localhost:8080/"
        },
        "id": "MjDFUOwo6u6q",
        "outputId": "4abe111d-41e8-4c8e-bd34-76846a92d43a"
      },
      "execution_count": 21,
      "outputs": [
        {
          "output_type": "stream",
          "name": "stdout",
          "text": [
            "3/3 [==============================] - 0s 5ms/step - loss: 0.1107 - accuracy: 0.9667\n",
            "Test Accuracy: 0.9667\n"
          ]
        }
      ]
    },
    {
      "cell_type": "code",
      "source": [
        "\n",
        "from sklearn.model_selection import GridSearchCV\n",
        "# Assuming `model` is your trained model\n",
        "\n",
        "# Step 17: Make predictions on the test set\n",
        "predictions = model.predict(X_test)\n",
        "\n",
        "# Convert the predictions to class labels\n",
        "predicted_classes = np.argmax(predictions, axis=1)\n",
        "\n",
        "# Decode the class labels if you used LabelEncoder\n",
        "predicted_classes = label_encoder.inverse_transform(predicted_classes)\n",
        "\n",
        "# Print some example predictions\n",
        "for i in range(90):  # Print the first 90 predictions\n",
        "    print(f\"Predicted class: {predicted_classes[i]}, Actual class: {label_encoder.inverse_transform([y_test[i]])[0]}\")\n"
      ],
      "metadata": {
        "colab": {
          "base_uri": "https://localhost:8080/"
        },
        "id": "9zgY-8rE60ii",
        "outputId": "94f9f828-83d0-44d6-d937-60f2869bd437"
      },
      "execution_count": null,
      "outputs": [
        {
          "output_type": "stream",
          "name": "stdout",
          "text": [
            "3/3 [==============================] - 0s 5ms/step\n",
            "Predicted class: Maadan, Actual class: Maadan\n",
            "Predicted class: Maadan, Actual class: Maadan\n",
            "Predicted class: Mee , Actual class: Mee \n",
            "Predicted class: Mee , Actual class: Mee \n",
            "Predicted class: Maadan, Actual class: Maadan\n",
            "Predicted class: Christina, Actual class: Christina\n",
            "Predicted class: Maadan, Actual class: Maadan\n",
            "Predicted class: Maadan, Actual class: Maadan\n",
            "Predicted class: Christina, Actual class: Christina\n",
            "Predicted class: Christina, Actual class: Christina\n",
            "Predicted class: Mee , Actual class: Mee \n",
            "Predicted class: Maadan, Actual class: Maadan\n",
            "Predicted class: Mee , Actual class: Mee \n",
            "Predicted class: Mee , Actual class: Mee \n",
            "Predicted class: Maadan, Actual class: Maadan\n",
            "Predicted class: Mee , Actual class: Mee \n",
            "Predicted class: Christina, Actual class: Christina\n",
            "Predicted class: Mee , Actual class: Mee \n",
            "Predicted class: Mee , Actual class: Mee \n",
            "Predicted class: Mee , Actual class: Mee \n",
            "Predicted class: Mee , Actual class: Mee \n",
            "Predicted class: Mee , Actual class: Mee \n",
            "Predicted class: Maadan, Actual class: Maadan\n",
            "Predicted class: Mee , Actual class: Mee \n",
            "Predicted class: Mee , Actual class: Mee \n",
            "Predicted class: Maadan, Actual class: Maadan\n",
            "Predicted class: Maadan, Actual class: Maadan\n",
            "Predicted class: Christina, Actual class: Christina\n",
            "Predicted class: Mee , Actual class: Mee \n",
            "Predicted class: Christina, Actual class: Christina\n",
            "Predicted class: Christina, Actual class: Christina\n",
            "Predicted class: Maadan, Actual class: Maadan\n",
            "Predicted class: Maadan, Actual class: Maadan\n",
            "Predicted class: Mee , Actual class: Mee \n",
            "Predicted class: Mee , Actual class: Mee \n",
            "Predicted class: Maadan, Actual class: Maadan\n",
            "Predicted class: Maadan, Actual class: Maadan\n",
            "Predicted class: Maadan, Actual class: Maadan\n",
            "Predicted class: Mee , Actual class: Mee \n",
            "Predicted class: Maadan, Actual class: Maadan\n",
            "Predicted class: Maadan, Actual class: Maadan\n",
            "Predicted class: Christina, Actual class: Christina\n",
            "Predicted class: Mee , Actual class: Mee \n",
            "Predicted class: Christina, Actual class: Christina\n",
            "Predicted class: Maadan, Actual class: Maadan\n",
            "Predicted class: Maadan, Actual class: Maadan\n",
            "Predicted class: Christina, Actual class: Christina\n",
            "Predicted class: Christina, Actual class: Christina\n",
            "Predicted class: Maadan, Actual class: Maadan\n",
            "Predicted class: Mee , Actual class: Mee \n",
            "Predicted class: Mee , Actual class: Mee \n",
            "Predicted class: Christina, Actual class: Christina\n",
            "Predicted class: Maadan, Actual class: Maadan\n",
            "Predicted class: Mee , Actual class: Mee \n",
            "Predicted class: Maadan, Actual class: Maadan\n",
            "Predicted class: Mee , Actual class: Mee \n",
            "Predicted class: Maadan, Actual class: Maadan\n",
            "Predicted class: Mee , Actual class: Mee \n",
            "Predicted class: Mee , Actual class: Mee \n",
            "Predicted class: Maadan, Actual class: Christina\n",
            "Predicted class: Mee , Actual class: Mee \n",
            "Predicted class: Mee , Actual class: Mee \n",
            "Predicted class: Christina, Actual class: Christina\n",
            "Predicted class: Christina, Actual class: Christina\n",
            "Predicted class: Mee , Actual class: Mee \n",
            "Predicted class: Christina, Actual class: Maadan\n",
            "Predicted class: Maadan, Actual class: Maadan\n",
            "Predicted class: Maadan, Actual class: Maadan\n",
            "Predicted class: Christina, Actual class: Christina\n",
            "Predicted class: Mee , Actual class: Mee \n",
            "Predicted class: Maadan, Actual class: Maadan\n",
            "Predicted class: Mee , Actual class: Mee \n",
            "Predicted class: Christina, Actual class: Christina\n",
            "Predicted class: Christina, Actual class: Christina\n",
            "Predicted class: Maadan, Actual class: Maadan\n",
            "Predicted class: Mee , Actual class: Mee \n",
            "Predicted class: Christina, Actual class: Christina\n",
            "Predicted class: Mee , Actual class: Mee \n",
            "Predicted class: Maadan, Actual class: Maadan\n",
            "Predicted class: Christina, Actual class: Christina\n",
            "Predicted class: Mee , Actual class: Mee \n",
            "Predicted class: Christina, Actual class: Christina\n",
            "Predicted class: Mee , Actual class: Mee \n",
            "Predicted class: Mee , Actual class: Mee \n",
            "Predicted class: Christina, Actual class: Christina\n",
            "Predicted class: Maadan, Actual class: Maadan\n",
            "Predicted class: Maadan, Actual class: Maadan\n",
            "Predicted class: Maadan, Actual class: Maadan\n",
            "Predicted class: Mee , Actual class: Mee \n",
            "Predicted class: Maadan, Actual class: Christina\n"
          ]
        }
      ]
    }
  ]
}