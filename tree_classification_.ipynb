{
  "nbformat": 4,
  "nbformat_minor": 0,
  "metadata": {
    "colab": {
      "provenance": [],
      "include_colab_link": true
    },
    "kernelspec": {
      "name": "python3",
      "display_name": "Python 3"
    },
    "language_info": {
      "name": "python"
    }
  },
  "cells": [
    {
      "cell_type": "markdown",
      "metadata": {
        "id": "view-in-github",
        "colab_type": "text"
      },
      "source": [
        "<a href=\"https://colab.research.google.com/github/usjay/tree_classifier_model/blob/main/tree_classification_.ipynb\" target=\"_parent\"><img src=\"https://colab.research.google.com/assets/colab-badge.svg\" alt=\"Open In Colab\"/></a>"
      ]
    },
    {
      "cell_type": "code",
      "execution_count": 38,
      "metadata": {
        "id": "rnG3tsUr3tfZ"
      },
      "outputs": [],
      "source": [
        "import numpy as np\n",
        "import pandas as pd\n",
        "import tensorflow as tf\n",
        "from tensorflow.keras.models import Sequential\n",
        "from tensorflow.keras.layers import Dense\n",
        "from tensorflow.keras.callbacks import EarlyStopping\n",
        "from sklearn.model_selection import train_test_split\n",
        "from sklearn.preprocessing import StandardScaler, LabelEncoder\n",
        "import matplotlib.pyplot as plt\n",
        "from google.colab import files\n",
        "from tensorflow.keras.layers import Dropout, BatchNormalization"
      ]
    },
    {
      "cell_type": "code",
      "source": [
        "# Step 1: Upload the dataset\n",
        "uploaded = files.upload()\n"
      ],
      "metadata": {
        "colab": {
          "base_uri": "https://localhost:8080/",
          "height": 73
        },
        "id": "t4J6AT1234eT",
        "outputId": "65f4ecc9-7975-4f9a-c408-9c26c85f3fde"
      },
      "execution_count": 40,
      "outputs": [
        {
          "output_type": "display_data",
          "data": {
            "text/plain": [
              "<IPython.core.display.HTML object>"
            ],
            "text/html": [
              "\n",
              "     <input type=\"file\" id=\"files-f5cbee32-c0dc-4b22-9ebe-512df7b319f5\" name=\"files[]\" multiple disabled\n",
              "        style=\"border:none\" />\n",
              "     <output id=\"result-f5cbee32-c0dc-4b22-9ebe-512df7b319f5\">\n",
              "      Upload widget is only available when the cell has been executed in the\n",
              "      current browser session. Please rerun this cell to enable.\n",
              "      </output>\n",
              "      <script>// Copyright 2017 Google LLC\n",
              "//\n",
              "// Licensed under the Apache License, Version 2.0 (the \"License\");\n",
              "// you may not use this file except in compliance with the License.\n",
              "// You may obtain a copy of the License at\n",
              "//\n",
              "//      http://www.apache.org/licenses/LICENSE-2.0\n",
              "//\n",
              "// Unless required by applicable law or agreed to in writing, software\n",
              "// distributed under the License is distributed on an \"AS IS\" BASIS,\n",
              "// WITHOUT WARRANTIES OR CONDITIONS OF ANY KIND, either express or implied.\n",
              "// See the License for the specific language governing permissions and\n",
              "// limitations under the License.\n",
              "\n",
              "/**\n",
              " * @fileoverview Helpers for google.colab Python module.\n",
              " */\n",
              "(function(scope) {\n",
              "function span(text, styleAttributes = {}) {\n",
              "  const element = document.createElement('span');\n",
              "  element.textContent = text;\n",
              "  for (const key of Object.keys(styleAttributes)) {\n",
              "    element.style[key] = styleAttributes[key];\n",
              "  }\n",
              "  return element;\n",
              "}\n",
              "\n",
              "// Max number of bytes which will be uploaded at a time.\n",
              "const MAX_PAYLOAD_SIZE = 100 * 1024;\n",
              "\n",
              "function _uploadFiles(inputId, outputId) {\n",
              "  const steps = uploadFilesStep(inputId, outputId);\n",
              "  const outputElement = document.getElementById(outputId);\n",
              "  // Cache steps on the outputElement to make it available for the next call\n",
              "  // to uploadFilesContinue from Python.\n",
              "  outputElement.steps = steps;\n",
              "\n",
              "  return _uploadFilesContinue(outputId);\n",
              "}\n",
              "\n",
              "// This is roughly an async generator (not supported in the browser yet),\n",
              "// where there are multiple asynchronous steps and the Python side is going\n",
              "// to poll for completion of each step.\n",
              "// This uses a Promise to block the python side on completion of each step,\n",
              "// then passes the result of the previous step as the input to the next step.\n",
              "function _uploadFilesContinue(outputId) {\n",
              "  const outputElement = document.getElementById(outputId);\n",
              "  const steps = outputElement.steps;\n",
              "\n",
              "  const next = steps.next(outputElement.lastPromiseValue);\n",
              "  return Promise.resolve(next.value.promise).then((value) => {\n",
              "    // Cache the last promise value to make it available to the next\n",
              "    // step of the generator.\n",
              "    outputElement.lastPromiseValue = value;\n",
              "    return next.value.response;\n",
              "  });\n",
              "}\n",
              "\n",
              "/**\n",
              " * Generator function which is called between each async step of the upload\n",
              " * process.\n",
              " * @param {string} inputId Element ID of the input file picker element.\n",
              " * @param {string} outputId Element ID of the output display.\n",
              " * @return {!Iterable<!Object>} Iterable of next steps.\n",
              " */\n",
              "function* uploadFilesStep(inputId, outputId) {\n",
              "  const inputElement = document.getElementById(inputId);\n",
              "  inputElement.disabled = false;\n",
              "\n",
              "  const outputElement = document.getElementById(outputId);\n",
              "  outputElement.innerHTML = '';\n",
              "\n",
              "  const pickedPromise = new Promise((resolve) => {\n",
              "    inputElement.addEventListener('change', (e) => {\n",
              "      resolve(e.target.files);\n",
              "    });\n",
              "  });\n",
              "\n",
              "  const cancel = document.createElement('button');\n",
              "  inputElement.parentElement.appendChild(cancel);\n",
              "  cancel.textContent = 'Cancel upload';\n",
              "  const cancelPromise = new Promise((resolve) => {\n",
              "    cancel.onclick = () => {\n",
              "      resolve(null);\n",
              "    };\n",
              "  });\n",
              "\n",
              "  // Wait for the user to pick the files.\n",
              "  const files = yield {\n",
              "    promise: Promise.race([pickedPromise, cancelPromise]),\n",
              "    response: {\n",
              "      action: 'starting',\n",
              "    }\n",
              "  };\n",
              "\n",
              "  cancel.remove();\n",
              "\n",
              "  // Disable the input element since further picks are not allowed.\n",
              "  inputElement.disabled = true;\n",
              "\n",
              "  if (!files) {\n",
              "    return {\n",
              "      response: {\n",
              "        action: 'complete',\n",
              "      }\n",
              "    };\n",
              "  }\n",
              "\n",
              "  for (const file of files) {\n",
              "    const li = document.createElement('li');\n",
              "    li.append(span(file.name, {fontWeight: 'bold'}));\n",
              "    li.append(span(\n",
              "        `(${file.type || 'n/a'}) - ${file.size} bytes, ` +\n",
              "        `last modified: ${\n",
              "            file.lastModifiedDate ? file.lastModifiedDate.toLocaleDateString() :\n",
              "                                    'n/a'} - `));\n",
              "    const percent = span('0% done');\n",
              "    li.appendChild(percent);\n",
              "\n",
              "    outputElement.appendChild(li);\n",
              "\n",
              "    const fileDataPromise = new Promise((resolve) => {\n",
              "      const reader = new FileReader();\n",
              "      reader.onload = (e) => {\n",
              "        resolve(e.target.result);\n",
              "      };\n",
              "      reader.readAsArrayBuffer(file);\n",
              "    });\n",
              "    // Wait for the data to be ready.\n",
              "    let fileData = yield {\n",
              "      promise: fileDataPromise,\n",
              "      response: {\n",
              "        action: 'continue',\n",
              "      }\n",
              "    };\n",
              "\n",
              "    // Use a chunked sending to avoid message size limits. See b/62115660.\n",
              "    let position = 0;\n",
              "    do {\n",
              "      const length = Math.min(fileData.byteLength - position, MAX_PAYLOAD_SIZE);\n",
              "      const chunk = new Uint8Array(fileData, position, length);\n",
              "      position += length;\n",
              "\n",
              "      const base64 = btoa(String.fromCharCode.apply(null, chunk));\n",
              "      yield {\n",
              "        response: {\n",
              "          action: 'append',\n",
              "          file: file.name,\n",
              "          data: base64,\n",
              "        },\n",
              "      };\n",
              "\n",
              "      let percentDone = fileData.byteLength === 0 ?\n",
              "          100 :\n",
              "          Math.round((position / fileData.byteLength) * 100);\n",
              "      percent.textContent = `${percentDone}% done`;\n",
              "\n",
              "    } while (position < fileData.byteLength);\n",
              "  }\n",
              "\n",
              "  // All done.\n",
              "  yield {\n",
              "    response: {\n",
              "      action: 'complete',\n",
              "    }\n",
              "  };\n",
              "}\n",
              "\n",
              "scope.google = scope.google || {};\n",
              "scope.google.colab = scope.google.colab || {};\n",
              "scope.google.colab._files = {\n",
              "  _uploadFiles,\n",
              "  _uploadFilesContinue,\n",
              "};\n",
              "})(self);\n",
              "</script> "
            ]
          },
          "metadata": {}
        },
        {
          "output_type": "stream",
          "name": "stdout",
          "text": [
            "Saving dataset.csv to dataset (2).csv\n"
          ]
        }
      ]
    },
    {
      "cell_type": "code",
      "source": [
        "# Step 2: Load the dataset\n",
        "data = pd.read_csv(\"dataset.csv\")\n",
        "\n",
        "# Print the column names\n",
        "print(data.columns)\n"
      ],
      "metadata": {
        "colab": {
          "base_uri": "https://localhost:8080/"
        },
        "id": "-7fvkni537YD",
        "outputId": "f47e6868-e93c-4612-8e91-7f1285fcfeb0"
      },
      "execution_count": 41,
      "outputs": [
        {
          "output_type": "stream",
          "name": "stdout",
          "text": [
            "Index(['Ratio', 'Angle1 ', 'Angle 2', 'Name'], dtype='object')\n"
          ]
        }
      ]
    },
    {
      "cell_type": "code",
      "source": [
        "# Step 3: Preprocess data\n",
        "# Update these column names based on the actual column names in your dataset\n",
        "X = data[['Ratio', 'Angle1 ', 'Angle 2']]  # Selecting feature columns with correct names\n",
        "y = data['Name']  # Selecting the label column"
      ],
      "metadata": {
        "id": "Q34xQVz-4GCj"
      },
      "execution_count": 42,
      "outputs": []
    },
    {
      "cell_type": "code",
      "source": [
        "# Encode categorical target labels\n",
        "label_encoder = LabelEncoder()\n",
        "y = label_encoder.fit_transform(y)"
      ],
      "metadata": {
        "id": "8wD3Zg_a4Ive"
      },
      "execution_count": 43,
      "outputs": []
    },
    {
      "cell_type": "code",
      "source": [
        "# Split the data into training and testing sets\n",
        "X_train, X_test, y_train, y_test = train_test_split(X, y, test_size=0.2, random_state=42)\n"
      ],
      "metadata": {
        "id": "rZTy8-9h4K09"
      },
      "execution_count": 44,
      "outputs": []
    },
    {
      "cell_type": "code",
      "source": [
        "# Standardize the feature data\n",
        "scaler = StandardScaler()\n",
        "X_train = scaler.fit_transform(X_train)\n",
        "X_test = scaler.transform(X_test)"
      ],
      "metadata": {
        "id": "_HcaDCPI4NEi"
      },
      "execution_count": 45,
      "outputs": []
    },
    {
      "cell_type": "code",
      "source": [
        "model = Sequential()\n",
        "model.add(Dense(24, activation='relu', input_shape=(X_train.shape[1],)))\n",
        "model.add(BatchNormalization())\n",
        "model.add(Dropout(0.2))\n",
        "model.add(Dense(24, activation='relu'))\n",
        "model.add(BatchNormalization())\n",
        "model.add(Dropout(0.2))\n",
        "model.add(Dense(3, activation='softmax'))"
      ],
      "metadata": {
        "id": "m_YRxlZX4RS3"
      },
      "execution_count": 46,
      "outputs": []
    },
    {
      "cell_type": "code",
      "source": [
        "# Step 5: Compile model\n",
        "model.compile(optimizer='adam',\n",
        "              loss='sparse_categorical_crossentropy',\n",
        "              metrics=['accuracy'])"
      ],
      "metadata": {
        "id": "U0cFZrp84TVh"
      },
      "execution_count": 47,
      "outputs": []
    },
    {
      "cell_type": "code",
      "source": [
        "# Step 7: Train model with early stopping\n",
        "history = model.fit(X_train, y_train,\n",
        "                    epochs=100,  # Start with a higher number of epochs\n",
        "                    batch_size=64,\n",
        "                    validation_split=0.2,\n",
        "\n",
        "                   )"
      ],
      "metadata": {
        "colab": {
          "base_uri": "https://localhost:8080/"
        },
        "id": "IVvoTlEs4YDS",
        "outputId": "b79611df-fc1a-4c2f-a705-3a0cdbef1c90"
      },
      "execution_count": 48,
      "outputs": [
        {
          "output_type": "stream",
          "name": "stdout",
          "text": [
            "Epoch 1/100\n",
            "5/5 [==============================] - 2s 64ms/step - loss: 1.1370 - accuracy: 0.5000 - val_loss: 0.9740 - val_accuracy: 0.6389\n",
            "Epoch 2/100\n",
            "5/5 [==============================] - 0s 10ms/step - loss: 0.8492 - accuracy: 0.6736 - val_loss: 0.9388 - val_accuracy: 0.7639\n",
            "Epoch 3/100\n",
            "5/5 [==============================] - 0s 14ms/step - loss: 0.7540 - accuracy: 0.7222 - val_loss: 0.9041 - val_accuracy: 0.8333\n",
            "Epoch 4/100\n",
            "5/5 [==============================] - 0s 10ms/step - loss: 0.7472 - accuracy: 0.7118 - val_loss: 0.8667 - val_accuracy: 0.8472\n",
            "Epoch 5/100\n",
            "5/5 [==============================] - 0s 11ms/step - loss: 0.5802 - accuracy: 0.7882 - val_loss: 0.8265 - val_accuracy: 0.8750\n",
            "Epoch 6/100\n",
            "5/5 [==============================] - 0s 14ms/step - loss: 0.5037 - accuracy: 0.8264 - val_loss: 0.7873 - val_accuracy: 0.8889\n",
            "Epoch 7/100\n",
            "5/5 [==============================] - 0s 10ms/step - loss: 0.4551 - accuracy: 0.8611 - val_loss: 0.7507 - val_accuracy: 0.8889\n",
            "Epoch 8/100\n",
            "5/5 [==============================] - 0s 10ms/step - loss: 0.4015 - accuracy: 0.8576 - val_loss: 0.7176 - val_accuracy: 0.9167\n",
            "Epoch 9/100\n",
            "5/5 [==============================] - 0s 14ms/step - loss: 0.3876 - accuracy: 0.8611 - val_loss: 0.6861 - val_accuracy: 0.9167\n",
            "Epoch 10/100\n",
            "5/5 [==============================] - 0s 11ms/step - loss: 0.3891 - accuracy: 0.8819 - val_loss: 0.6575 - val_accuracy: 0.9167\n",
            "Epoch 11/100\n",
            "5/5 [==============================] - 0s 15ms/step - loss: 0.3655 - accuracy: 0.8854 - val_loss: 0.6313 - val_accuracy: 0.9167\n",
            "Epoch 12/100\n",
            "5/5 [==============================] - 0s 14ms/step - loss: 0.3627 - accuracy: 0.8715 - val_loss: 0.6073 - val_accuracy: 0.9167\n",
            "Epoch 13/100\n",
            "5/5 [==============================] - 0s 10ms/step - loss: 0.3718 - accuracy: 0.8715 - val_loss: 0.5853 - val_accuracy: 0.9167\n",
            "Epoch 14/100\n",
            "5/5 [==============================] - 0s 15ms/step - loss: 0.3229 - accuracy: 0.8924 - val_loss: 0.5649 - val_accuracy: 0.9167\n",
            "Epoch 15/100\n",
            "5/5 [==============================] - 0s 15ms/step - loss: 0.3408 - accuracy: 0.8993 - val_loss: 0.5453 - val_accuracy: 0.9167\n",
            "Epoch 16/100\n",
            "5/5 [==============================] - 0s 11ms/step - loss: 0.3328 - accuracy: 0.8854 - val_loss: 0.5273 - val_accuracy: 0.9167\n",
            "Epoch 17/100\n",
            "5/5 [==============================] - 0s 14ms/step - loss: 0.3261 - accuracy: 0.8889 - val_loss: 0.5097 - val_accuracy: 0.9167\n",
            "Epoch 18/100\n",
            "5/5 [==============================] - 0s 11ms/step - loss: 0.3052 - accuracy: 0.8819 - val_loss: 0.4940 - val_accuracy: 0.9167\n",
            "Epoch 19/100\n",
            "5/5 [==============================] - 0s 10ms/step - loss: 0.2874 - accuracy: 0.8958 - val_loss: 0.4788 - val_accuracy: 0.9306\n",
            "Epoch 20/100\n",
            "5/5 [==============================] - 0s 10ms/step - loss: 0.2847 - accuracy: 0.9062 - val_loss: 0.4643 - val_accuracy: 0.9306\n",
            "Epoch 21/100\n",
            "5/5 [==============================] - 0s 10ms/step - loss: 0.3022 - accuracy: 0.8993 - val_loss: 0.4499 - val_accuracy: 0.9306\n",
            "Epoch 22/100\n",
            "5/5 [==============================] - 0s 14ms/step - loss: 0.2802 - accuracy: 0.9132 - val_loss: 0.4355 - val_accuracy: 0.9306\n",
            "Epoch 23/100\n",
            "5/5 [==============================] - 0s 16ms/step - loss: 0.2858 - accuracy: 0.9132 - val_loss: 0.4217 - val_accuracy: 0.9306\n",
            "Epoch 24/100\n",
            "5/5 [==============================] - 0s 10ms/step - loss: 0.2489 - accuracy: 0.9097 - val_loss: 0.4084 - val_accuracy: 0.9444\n",
            "Epoch 25/100\n",
            "5/5 [==============================] - 0s 10ms/step - loss: 0.2939 - accuracy: 0.8993 - val_loss: 0.3965 - val_accuracy: 0.9444\n",
            "Epoch 26/100\n",
            "5/5 [==============================] - 0s 14ms/step - loss: 0.2267 - accuracy: 0.9340 - val_loss: 0.3848 - val_accuracy: 0.9444\n",
            "Epoch 27/100\n",
            "5/5 [==============================] - 0s 14ms/step - loss: 0.2368 - accuracy: 0.9375 - val_loss: 0.3732 - val_accuracy: 0.9444\n",
            "Epoch 28/100\n",
            "5/5 [==============================] - 0s 14ms/step - loss: 0.2604 - accuracy: 0.9097 - val_loss: 0.3628 - val_accuracy: 0.9444\n",
            "Epoch 29/100\n",
            "5/5 [==============================] - 0s 14ms/step - loss: 0.2695 - accuracy: 0.8993 - val_loss: 0.3528 - val_accuracy: 0.9444\n",
            "Epoch 30/100\n",
            "5/5 [==============================] - 0s 10ms/step - loss: 0.2661 - accuracy: 0.9062 - val_loss: 0.3441 - val_accuracy: 0.9444\n",
            "Epoch 31/100\n",
            "5/5 [==============================] - 0s 14ms/step - loss: 0.2428 - accuracy: 0.9375 - val_loss: 0.3360 - val_accuracy: 0.9444\n",
            "Epoch 32/100\n",
            "5/5 [==============================] - 0s 9ms/step - loss: 0.2426 - accuracy: 0.9306 - val_loss: 0.3278 - val_accuracy: 0.9444\n",
            "Epoch 33/100\n",
            "5/5 [==============================] - 0s 9ms/step - loss: 0.2189 - accuracy: 0.9271 - val_loss: 0.3209 - val_accuracy: 0.9444\n",
            "Epoch 34/100\n",
            "5/5 [==============================] - 0s 9ms/step - loss: 0.2202 - accuracy: 0.9167 - val_loss: 0.3129 - val_accuracy: 0.9444\n",
            "Epoch 35/100\n",
            "5/5 [==============================] - 0s 13ms/step - loss: 0.2268 - accuracy: 0.9236 - val_loss: 0.3050 - val_accuracy: 0.9444\n",
            "Epoch 36/100\n",
            "5/5 [==============================] - 0s 11ms/step - loss: 0.2372 - accuracy: 0.9132 - val_loss: 0.2987 - val_accuracy: 0.9444\n",
            "Epoch 37/100\n",
            "5/5 [==============================] - 0s 10ms/step - loss: 0.2718 - accuracy: 0.9132 - val_loss: 0.2929 - val_accuracy: 0.9444\n",
            "Epoch 38/100\n",
            "5/5 [==============================] - 0s 10ms/step - loss: 0.2526 - accuracy: 0.8993 - val_loss: 0.2884 - val_accuracy: 0.9444\n",
            "Epoch 39/100\n",
            "5/5 [==============================] - 0s 14ms/step - loss: 0.2297 - accuracy: 0.9062 - val_loss: 0.2840 - val_accuracy: 0.9444\n",
            "Epoch 40/100\n",
            "5/5 [==============================] - 0s 14ms/step - loss: 0.2348 - accuracy: 0.9167 - val_loss: 0.2789 - val_accuracy: 0.9444\n",
            "Epoch 41/100\n",
            "5/5 [==============================] - 0s 11ms/step - loss: 0.2118 - accuracy: 0.9236 - val_loss: 0.2734 - val_accuracy: 0.9444\n",
            "Epoch 42/100\n",
            "5/5 [==============================] - 0s 10ms/step - loss: 0.1926 - accuracy: 0.9271 - val_loss: 0.2685 - val_accuracy: 0.9444\n",
            "Epoch 43/100\n",
            "5/5 [==============================] - 0s 14ms/step - loss: 0.2357 - accuracy: 0.9201 - val_loss: 0.2634 - val_accuracy: 0.9444\n",
            "Epoch 44/100\n",
            "5/5 [==============================] - 0s 14ms/step - loss: 0.2205 - accuracy: 0.9236 - val_loss: 0.2584 - val_accuracy: 0.9444\n",
            "Epoch 45/100\n",
            "5/5 [==============================] - 0s 13ms/step - loss: 0.2418 - accuracy: 0.9097 - val_loss: 0.2543 - val_accuracy: 0.9444\n",
            "Epoch 46/100\n",
            "5/5 [==============================] - 0s 10ms/step - loss: 0.2122 - accuracy: 0.9236 - val_loss: 0.2509 - val_accuracy: 0.9444\n",
            "Epoch 47/100\n",
            "5/5 [==============================] - 0s 14ms/step - loss: 0.1967 - accuracy: 0.9271 - val_loss: 0.2470 - val_accuracy: 0.9444\n",
            "Epoch 48/100\n",
            "5/5 [==============================] - 0s 14ms/step - loss: 0.2266 - accuracy: 0.9271 - val_loss: 0.2449 - val_accuracy: 0.9444\n",
            "Epoch 49/100\n",
            "5/5 [==============================] - 0s 10ms/step - loss: 0.2546 - accuracy: 0.9167 - val_loss: 0.2430 - val_accuracy: 0.9444\n",
            "Epoch 50/100\n",
            "5/5 [==============================] - 0s 15ms/step - loss: 0.2408 - accuracy: 0.9132 - val_loss: 0.2396 - val_accuracy: 0.9444\n",
            "Epoch 51/100\n",
            "5/5 [==============================] - 0s 10ms/step - loss: 0.2503 - accuracy: 0.9167 - val_loss: 0.2339 - val_accuracy: 0.9444\n",
            "Epoch 52/100\n",
            "5/5 [==============================] - 0s 14ms/step - loss: 0.2131 - accuracy: 0.9201 - val_loss: 0.2302 - val_accuracy: 0.9444\n",
            "Epoch 53/100\n",
            "5/5 [==============================] - 0s 14ms/step - loss: 0.2286 - accuracy: 0.9132 - val_loss: 0.2277 - val_accuracy: 0.9444\n",
            "Epoch 54/100\n",
            "5/5 [==============================] - 0s 10ms/step - loss: 0.2286 - accuracy: 0.9201 - val_loss: 0.2255 - val_accuracy: 0.9444\n",
            "Epoch 55/100\n",
            "5/5 [==============================] - 0s 10ms/step - loss: 0.2034 - accuracy: 0.9340 - val_loss: 0.2255 - val_accuracy: 0.9444\n",
            "Epoch 56/100\n",
            "5/5 [==============================] - 0s 11ms/step - loss: 0.2066 - accuracy: 0.9062 - val_loss: 0.2252 - val_accuracy: 0.9444\n",
            "Epoch 57/100\n",
            "5/5 [==============================] - 0s 14ms/step - loss: 0.2420 - accuracy: 0.9201 - val_loss: 0.2232 - val_accuracy: 0.9444\n",
            "Epoch 58/100\n",
            "5/5 [==============================] - 0s 13ms/step - loss: 0.2390 - accuracy: 0.9271 - val_loss: 0.2221 - val_accuracy: 0.9444\n",
            "Epoch 59/100\n",
            "5/5 [==============================] - 0s 10ms/step - loss: 0.1861 - accuracy: 0.9375 - val_loss: 0.2196 - val_accuracy: 0.9444\n",
            "Epoch 60/100\n",
            "5/5 [==============================] - 0s 10ms/step - loss: 0.1967 - accuracy: 0.9201 - val_loss: 0.2182 - val_accuracy: 0.9444\n",
            "Epoch 61/100\n",
            "5/5 [==============================] - 0s 11ms/step - loss: 0.1854 - accuracy: 0.9375 - val_loss: 0.2155 - val_accuracy: 0.9444\n",
            "Epoch 62/100\n",
            "5/5 [==============================] - 0s 15ms/step - loss: 0.2055 - accuracy: 0.9201 - val_loss: 0.2128 - val_accuracy: 0.9444\n",
            "Epoch 63/100\n",
            "5/5 [==============================] - 0s 10ms/step - loss: 0.2428 - accuracy: 0.9028 - val_loss: 0.2117 - val_accuracy: 0.9444\n",
            "Epoch 64/100\n",
            "5/5 [==============================] - 0s 15ms/step - loss: 0.2314 - accuracy: 0.8854 - val_loss: 0.2092 - val_accuracy: 0.9444\n",
            "Epoch 65/100\n",
            "5/5 [==============================] - 0s 14ms/step - loss: 0.2036 - accuracy: 0.9375 - val_loss: 0.2066 - val_accuracy: 0.9444\n",
            "Epoch 66/100\n",
            "5/5 [==============================] - 0s 10ms/step - loss: 0.1787 - accuracy: 0.9306 - val_loss: 0.2055 - val_accuracy: 0.9444\n",
            "Epoch 67/100\n",
            "5/5 [==============================] - 0s 14ms/step - loss: 0.2132 - accuracy: 0.9236 - val_loss: 0.2062 - val_accuracy: 0.9444\n",
            "Epoch 68/100\n",
            "5/5 [==============================] - 0s 14ms/step - loss: 0.2169 - accuracy: 0.9167 - val_loss: 0.2061 - val_accuracy: 0.9444\n",
            "Epoch 69/100\n",
            "5/5 [==============================] - 0s 18ms/step - loss: 0.2035 - accuracy: 0.9097 - val_loss: 0.2056 - val_accuracy: 0.9444\n",
            "Epoch 70/100\n",
            "5/5 [==============================] - 0s 10ms/step - loss: 0.1952 - accuracy: 0.9167 - val_loss: 0.2053 - val_accuracy: 0.9444\n",
            "Epoch 71/100\n",
            "5/5 [==============================] - 0s 9ms/step - loss: 0.2189 - accuracy: 0.9097 - val_loss: 0.2062 - val_accuracy: 0.9444\n",
            "Epoch 72/100\n",
            "5/5 [==============================] - 0s 10ms/step - loss: 0.2000 - accuracy: 0.9271 - val_loss: 0.2041 - val_accuracy: 0.9444\n",
            "Epoch 73/100\n",
            "5/5 [==============================] - 0s 14ms/step - loss: 0.1805 - accuracy: 0.9167 - val_loss: 0.2035 - val_accuracy: 0.9444\n",
            "Epoch 74/100\n",
            "5/5 [==============================] - 0s 14ms/step - loss: 0.1742 - accuracy: 0.9306 - val_loss: 0.2039 - val_accuracy: 0.9444\n",
            "Epoch 75/100\n",
            "5/5 [==============================] - 0s 11ms/step - loss: 0.2256 - accuracy: 0.9062 - val_loss: 0.2038 - val_accuracy: 0.9444\n",
            "Epoch 76/100\n",
            "5/5 [==============================] - 0s 13ms/step - loss: 0.2099 - accuracy: 0.9340 - val_loss: 0.2031 - val_accuracy: 0.9444\n",
            "Epoch 77/100\n",
            "5/5 [==============================] - 0s 16ms/step - loss: 0.2046 - accuracy: 0.9236 - val_loss: 0.2038 - val_accuracy: 0.9444\n",
            "Epoch 78/100\n",
            "5/5 [==============================] - 0s 14ms/step - loss: 0.2255 - accuracy: 0.9167 - val_loss: 0.2053 - val_accuracy: 0.9444\n",
            "Epoch 79/100\n",
            "5/5 [==============================] - 0s 14ms/step - loss: 0.1892 - accuracy: 0.9375 - val_loss: 0.2058 - val_accuracy: 0.9444\n",
            "Epoch 80/100\n",
            "5/5 [==============================] - 0s 13ms/step - loss: 0.2046 - accuracy: 0.9132 - val_loss: 0.2063 - val_accuracy: 0.9444\n",
            "Epoch 81/100\n",
            "5/5 [==============================] - 0s 14ms/step - loss: 0.2141 - accuracy: 0.9167 - val_loss: 0.2064 - val_accuracy: 0.9444\n",
            "Epoch 82/100\n",
            "5/5 [==============================] - 0s 10ms/step - loss: 0.1853 - accuracy: 0.9167 - val_loss: 0.2070 - val_accuracy: 0.9444\n",
            "Epoch 83/100\n",
            "5/5 [==============================] - 0s 14ms/step - loss: 0.1879 - accuracy: 0.9340 - val_loss: 0.2078 - val_accuracy: 0.9444\n",
            "Epoch 84/100\n",
            "5/5 [==============================] - 0s 11ms/step - loss: 0.1944 - accuracy: 0.9132 - val_loss: 0.2075 - val_accuracy: 0.9444\n",
            "Epoch 85/100\n",
            "5/5 [==============================] - 0s 10ms/step - loss: 0.2181 - accuracy: 0.9097 - val_loss: 0.2065 - val_accuracy: 0.9444\n",
            "Epoch 86/100\n",
            "5/5 [==============================] - 0s 9ms/step - loss: 0.1908 - accuracy: 0.9306 - val_loss: 0.2066 - val_accuracy: 0.9444\n",
            "Epoch 87/100\n",
            "5/5 [==============================] - 0s 14ms/step - loss: 0.1802 - accuracy: 0.9306 - val_loss: 0.2021 - val_accuracy: 0.9444\n",
            "Epoch 88/100\n",
            "5/5 [==============================] - 0s 9ms/step - loss: 0.2013 - accuracy: 0.9132 - val_loss: 0.1997 - val_accuracy: 0.9444\n",
            "Epoch 89/100\n",
            "5/5 [==============================] - 0s 14ms/step - loss: 0.1780 - accuracy: 0.9271 - val_loss: 0.2001 - val_accuracy: 0.9444\n",
            "Epoch 90/100\n",
            "5/5 [==============================] - 0s 10ms/step - loss: 0.2171 - accuracy: 0.9132 - val_loss: 0.2011 - val_accuracy: 0.9444\n",
            "Epoch 91/100\n",
            "5/5 [==============================] - 0s 10ms/step - loss: 0.1751 - accuracy: 0.9271 - val_loss: 0.2034 - val_accuracy: 0.9306\n",
            "Epoch 92/100\n",
            "5/5 [==============================] - 0s 14ms/step - loss: 0.2088 - accuracy: 0.9132 - val_loss: 0.2059 - val_accuracy: 0.9306\n",
            "Epoch 93/100\n",
            "5/5 [==============================] - 0s 14ms/step - loss: 0.2037 - accuracy: 0.8924 - val_loss: 0.2070 - val_accuracy: 0.9306\n",
            "Epoch 94/100\n",
            "5/5 [==============================] - 0s 13ms/step - loss: 0.2086 - accuracy: 0.9201 - val_loss: 0.2067 - val_accuracy: 0.9306\n",
            "Epoch 95/100\n",
            "5/5 [==============================] - 0s 10ms/step - loss: 0.1868 - accuracy: 0.9132 - val_loss: 0.2053 - val_accuracy: 0.9306\n",
            "Epoch 96/100\n",
            "5/5 [==============================] - 0s 17ms/step - loss: 0.1883 - accuracy: 0.9271 - val_loss: 0.2054 - val_accuracy: 0.9306\n",
            "Epoch 97/100\n",
            "5/5 [==============================] - 0s 10ms/step - loss: 0.1908 - accuracy: 0.9271 - val_loss: 0.2044 - val_accuracy: 0.9306\n",
            "Epoch 98/100\n",
            "5/5 [==============================] - 0s 14ms/step - loss: 0.1840 - accuracy: 0.9375 - val_loss: 0.2005 - val_accuracy: 0.9444\n",
            "Epoch 99/100\n",
            "5/5 [==============================] - 0s 10ms/step - loss: 0.1994 - accuracy: 0.9236 - val_loss: 0.1989 - val_accuracy: 0.9444\n",
            "Epoch 100/100\n",
            "5/5 [==============================] - 0s 14ms/step - loss: 0.1676 - accuracy: 0.9236 - val_loss: 0.1950 - val_accuracy: 0.9444\n"
          ]
        }
      ]
    },
    {
      "cell_type": "code",
      "source": [
        "# Step 7: Evaluate model\n",
        "loss, accuracy = model.evaluate(X_test, y_test)\n",
        "print(f'Test Accuracy: {accuracy:.4f}')"
      ],
      "metadata": {
        "colab": {
          "base_uri": "https://localhost:8080/"
        },
        "id": "WkRLPn-J5uV0",
        "outputId": "b6f6752d-b6d5-4907-d1bd-5862ffe3a076"
      },
      "execution_count": 49,
      "outputs": [
        {
          "output_type": "stream",
          "name": "stdout",
          "text": [
            "3/3 [==============================] - 0s 4ms/step - loss: 0.1062 - accuracy: 0.9667\n",
            "Test Accuracy: 0.9667\n"
          ]
        }
      ]
    },
    {
      "cell_type": "code",
      "source": [
        "# Step 8: Plot accuracy\n",
        "plt.plot(history.history['accuracy'], label='Train Accuracy')\n",
        "plt.plot(history.history['val_accuracy'], label='Validation Accuracy')\n",
        "plt.xlabel('Epochs')\n",
        "plt.ylabel('Accuracy')\n",
        "plt.legend()\n",
        "plt.title('Training and Validation Accuracy')\n",
        "plt.show()"
      ],
      "metadata": {
        "colab": {
          "base_uri": "https://localhost:8080/",
          "height": 472
        },
        "id": "WkMiTF5p561Y",
        "outputId": "c5e720db-cd48-4aaa-9aca-35c72f606efd"
      },
      "execution_count": 50,
      "outputs": [
        {
          "output_type": "display_data",
          "data": {
            "text/plain": [
              "<Figure size 640x480 with 1 Axes>"
            ],
            "image/png": "[encoded data removed]"
          },
          "metadata": {}
        }
      ]
    },
    {
      "cell_type": "code",
      "source": [
        "# Step 6: Define EarlyStopping callback\n",
        "early_stopping = EarlyStopping(monitor='val_loss', patience=5, restore_best_weights=True)"
      ],
      "metadata": {
        "id": "QvtLR8kL6KP-"
      },
      "execution_count": 51,
      "outputs": []
    },
    {
      "cell_type": "code",
      "source": [
        "# Step 7: Train model with early stopping\n",
        "history = model.fit(X_train, y_train,\n",
        "                    epochs=100,  # Start with a higher number of epochs\n",
        "                    batch_size=64,\n",
        "                    validation_split=0.2,\n",
        "                    callbacks=[early_stopping]\n",
        "                   )"
      ],
      "metadata": {
        "colab": {
          "base_uri": "https://localhost:8080/"
        },
        "id": "dK9G2HXVS2PR",
        "outputId": "6ecf6660-2f4a-44c2-ad89-6b44675d7704"
      },
      "execution_count": 55,
      "outputs": [
        {
          "output_type": "stream",
          "name": "stdout",
          "text": [
            "Epoch 1/100\n",
            "5/5 [==============================] - 0s 52ms/step - loss: 0.1849 - accuracy: 0.9271 - val_loss: 0.1946 - val_accuracy: 0.9444\n",
            "Epoch 2/100\n",
            "5/5 [==============================] - 0s 39ms/step - loss: 0.1765 - accuracy: 0.9271 - val_loss: 0.1975 - val_accuracy: 0.9444\n",
            "Epoch 3/100\n",
            "5/5 [==============================] - 0s 37ms/step - loss: 0.1898 - accuracy: 0.9271 - val_loss: 0.1996 - val_accuracy: 0.9444\n",
            "Epoch 4/100\n",
            "5/5 [==============================] - 0s 22ms/step - loss: 0.1869 - accuracy: 0.9340 - val_loss: 0.1986 - val_accuracy: 0.9444\n",
            "Epoch 5/100\n",
            "5/5 [==============================] - 0s 34ms/step - loss: 0.1827 - accuracy: 0.9097 - val_loss: 0.1979 - val_accuracy: 0.9444\n",
            "Epoch 6/100\n",
            "5/5 [==============================] - 0s 31ms/step - loss: 0.1846 - accuracy: 0.9340 - val_loss: 0.1950 - val_accuracy: 0.9444\n"
          ]
        }
      ]
    },
    {
      "cell_type": "code",
      "source": [
        "# Print the number of epochs used\n",
        "print(f'Training stopped after {len(history.epoch)} epochs')"
      ],
      "metadata": {
        "colab": {
          "base_uri": "https://localhost:8080/"
        },
        "id": "hw4edNwLQQ45",
        "outputId": "03ca0ee1-259d-468f-ac55-0d954f6610ee"
      },
      "execution_count": 56,
      "outputs": [
        {
          "output_type": "stream",
          "name": "stdout",
          "text": [
            "Training stopped after 6 epochs\n"
          ]
        }
      ]
    },
    {
      "cell_type": "code",
      "source": [
        "# Step 8: Evaluate Re traine model\n",
        "loss, accuracy = model.evaluate(X_test, y_test)\n",
        "print(f'Test Accuracy: {accuracy:.4f}')"
      ],
      "metadata": {
        "colab": {
          "base_uri": "https://localhost:8080/"
        },
        "id": "MjDFUOwo6u6q",
        "outputId": "9504c676-58fe-445d-e487-b5e600ee7577"
      },
      "execution_count": 57,
      "outputs": [
        {
          "output_type": "stream",
          "name": "stdout",
          "text": [
            "3/3 [==============================] - 0s 4ms/step - loss: 0.1057 - accuracy: 0.9667\n",
            "Test Accuracy: 0.9667\n"
          ]
        }
      ]
    },
    {
      "cell_type": "code",
      "source": [
        "from sklearn.model_selection import GridSearchCV\n",
        "# Assuming `model` is your trained model\n",
        "\n",
        "# Make predictions on the test set\n",
        "predictions = model.predict(X_test)\n",
        "\n",
        "# Convert the predictions to class labels\n",
        "predicted_classes = np.argmax(predictions, axis=1)\n",
        "\n",
        "# Decode the class labels if you used LabelEncoder\n",
        "predicted_classes = label_encoder.inverse_transform(predicted_classes)\n",
        "\n",
        "# Print some example predictions\n",
        "for i in range(90):  # Print the first 10 predictions\n",
        "    print(f\"Predicted class: {predicted_classes[i]}, Actual class: {label_encoder.inverse_transform([y_test[i]])[0]}\")\n"
      ],
      "metadata": {
        "colab": {
          "base_uri": "https://localhost:8080/"
        },
        "id": "9zgY-8rE60ii",
        "outputId": "94f9f828-83d0-44d6-d937-60f2869bd437"
      },
      "execution_count": 58,
      "outputs": [
        {
          "output_type": "stream",
          "name": "stdout",
          "text": [
            "3/3 [==============================] - 0s 5ms/step\n",
            "Predicted class: Maadan, Actual class: Maadan\n",
            "Predicted class: Maadan, Actual class: Maadan\n",
            "Predicted class: Mee , Actual class: Mee \n",
            "Predicted class: Mee , Actual class: Mee \n",
            "Predicted class: Maadan, Actual class: Maadan\n",
            "Predicted class: Christina, Actual class: Christina\n",
            "Predicted class: Maadan, Actual class: Maadan\n",
            "Predicted class: Maadan, Actual class: Maadan\n",
            "Predicted class: Christina, Actual class: Christina\n",
            "Predicted class: Christina, Actual class: Christina\n",
            "Predicted class: Mee , Actual class: Mee \n",
            "Predicted class: Maadan, Actual class: Maadan\n",
            "Predicted class: Mee , Actual class: Mee \n",
            "Predicted class: Mee , Actual class: Mee \n",
            "Predicted class: Maadan, Actual class: Maadan\n",
            "Predicted class: Mee , Actual class: Mee \n",
            "Predicted class: Christina, Actual class: Christina\n",
            "Predicted class: Mee , Actual class: Mee \n",
            "Predicted class: Mee , Actual class: Mee \n",
            "Predicted class: Mee , Actual class: Mee \n",
            "Predicted class: Mee , Actual class: Mee \n",
            "Predicted class: Mee , Actual class: Mee \n",
            "Predicted class: Maadan, Actual class: Maadan\n",
            "Predicted class: Mee , Actual class: Mee \n",
            "Predicted class: Mee , Actual class: Mee \n",
            "Predicted class: Maadan, Actual class: Maadan\n",
            "Predicted class: Maadan, Actual class: Maadan\n",
            "Predicted class: Christina, Actual class: Christina\n",
            "Predicted class: Mee , Actual class: Mee \n",
            "Predicted class: Christina, Actual class: Christina\n",
            "Predicted class: Christina, Actual class: Christina\n",
            "Predicted class: Maadan, Actual class: Maadan\n",
            "Predicted class: Maadan, Actual class: Maadan\n",
            "Predicted class: Mee , Actual class: Mee \n",
            "Predicted class: Mee , Actual class: Mee \n",
            "Predicted class: Maadan, Actual class: Maadan\n",
            "Predicted class: Maadan, Actual class: Maadan\n",
            "Predicted class: Maadan, Actual class: Maadan\n",
            "Predicted class: Mee , Actual class: Mee \n",
            "Predicted class: Maadan, Actual class: Maadan\n",
            "Predicted class: Maadan, Actual class: Maadan\n",
            "Predicted class: Christina, Actual class: Christina\n",
            "Predicted class: Mee , Actual class: Mee \n",
            "Predicted class: Christina, Actual class: Christina\n",
            "Predicted class: Maadan, Actual class: Maadan\n",
            "Predicted class: Maadan, Actual class: Maadan\n",
            "Predicted class: Christina, Actual class: Christina\n",
            "Predicted class: Christina, Actual class: Christina\n",
            "Predicted class: Maadan, Actual class: Maadan\n",
            "Predicted class: Mee , Actual class: Mee \n",
            "Predicted class: Mee , Actual class: Mee \n",
            "Predicted class: Christina, Actual class: Christina\n",
            "Predicted class: Maadan, Actual class: Maadan\n",
            "Predicted class: Mee , Actual class: Mee \n",
            "Predicted class: Maadan, Actual class: Maadan\n",
            "Predicted class: Mee , Actual class: Mee \n",
            "Predicted class: Maadan, Actual class: Maadan\n",
            "Predicted class: Mee , Actual class: Mee \n",
            "Predicted class: Mee , Actual class: Mee \n",
            "Predicted class: Maadan, Actual class: Christina\n",
            "Predicted class: Mee , Actual class: Mee \n",
            "Predicted class: Mee , Actual class: Mee \n",
            "Predicted class: Christina, Actual class: Christina\n",
            "Predicted class: Christina, Actual class: Christina\n",
            "Predicted class: Mee , Actual class: Mee \n",
            "Predicted class: Christina, Actual class: Maadan\n",
            "Predicted class: Maadan, Actual class: Maadan\n",
            "Predicted class: Maadan, Actual class: Maadan\n",
            "Predicted class: Christina, Actual class: Christina\n",
            "Predicted class: Mee , Actual class: Mee \n",
            "Predicted class: Maadan, Actual class: Maadan\n",
            "Predicted class: Mee , Actual class: Mee \n",
            "Predicted class: Christina, Actual class: Christina\n",
            "Predicted class: Christina, Actual class: Christina\n",
            "Predicted class: Maadan, Actual class: Maadan\n",
            "Predicted class: Mee , Actual class: Mee \n",
            "Predicted class: Christina, Actual class: Christina\n",
            "Predicted class: Mee , Actual class: Mee \n",
            "Predicted class: Maadan, Actual class: Maadan\n",
            "Predicted class: Christina, Actual class: Christina\n",
            "Predicted class: Mee , Actual class: Mee \n",
            "Predicted class: Christina, Actual class: Christina\n",
            "Predicted class: Mee , Actual class: Mee \n",
            "Predicted class: Mee , Actual class: Mee \n",
            "Predicted class: Christina, Actual class: Christina\n",
            "Predicted class: Maadan, Actual class: Maadan\n",
            "Predicted class: Maadan, Actual class: Maadan\n",
            "Predicted class: Maadan, Actual class: Maadan\n",
            "Predicted class: Mee , Actual class: Mee \n",
            "Predicted class: Maadan, Actual class: Christina\n"
          ]
        }
      ]
    }
  ]
}